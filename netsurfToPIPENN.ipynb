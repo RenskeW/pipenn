{
 "cells": [
  {
   "cell_type": "code",
   "execution_count": 5,
   "outputs": [],
   "source": [
    "import pandas as pd\n",
    "import numpy as np"
   ],
   "metadata": {
    "collapsed": false,
    "pycharm": {
     "name": "#%%\n"
    }
   }
  },
  {
   "cell_type": "code",
   "execution_count": 32,
   "outputs": [],
   "source": [
    "cols = ['class','AA','name','number','rel_surf_acc','abs_surf_acc','z','prob_helix','prob_sheet','prob_coil']\n",
    "df=pd.read_fwf('netsurf_example_output.txt',comment='#',header=None,names=cols,infer_nrows=10000)"
   ],
   "metadata": {
    "collapsed": false,
    "pycharm": {
     "name": "#%%\n"
    }
   }
  },
  {
   "cell_type": "code",
   "execution_count": 33,
   "outputs": [
    {
     "data": {
      "text/plain": "    class AA      name  number  rel_surf_acc  abs_surf_acc      z  prob_helix  \\\n0       E  A  2WNS.A.1       1         0.777        85.680  1.547       0.003   \n1       E  L  2WNS.A.1       2         0.281        51.451  0.503       0.802   \n2       E  G  2WNS.A.1       3         0.530        41.687  1.558       0.938   \n3       E  P  2WNS.A.1       4         0.549        77.846  2.101       0.938   \n4       B  L  2WNS.A.1       5         0.074        13.531  0.513       0.938   \n..    ... ..       ...     ...           ...           ...    ...         ...   \n193     B  F  2WNS.A.1     194         0.132        26.472  0.674       0.923   \n194     E  I  2WNS.A.1     195         0.339        62.807  0.927       0.782   \n195     E  Q  2WNS.A.1     196         0.776       138.540  1.328       0.502   \n196     E  E  2WNS.A.1     197         0.931       162.576  1.532       0.016   \n197     E  K  1ABC.D.2       1         0.545       112.086  1.328       0.018   \n\n     prob_sheet  prob_coil  \n0         0.003      0.994  \n1         0.014      0.185  \n2         0.007      0.055  \n3         0.007      0.055  \n4         0.007      0.055  \n..          ...        ...  \n193       0.002      0.076  \n194       0.003      0.216  \n195       0.002      0.495  \n196       0.005      0.979  \n197       0.019      0.964  \n\n[198 rows x 10 columns]",
      "text/html": "<div>\n<style scoped>\n    .dataframe tbody tr th:only-of-type {\n        vertical-align: middle;\n    }\n\n    .dataframe tbody tr th {\n        vertical-align: top;\n    }\n\n    .dataframe thead th {\n        text-align: right;\n    }\n</style>\n<table border=\"1\" class=\"dataframe\">\n  <thead>\n    <tr style=\"text-align: right;\">\n      <th></th>\n      <th>class</th>\n      <th>AA</th>\n      <th>name</th>\n      <th>number</th>\n      <th>rel_surf_acc</th>\n      <th>abs_surf_acc</th>\n      <th>z</th>\n      <th>prob_helix</th>\n      <th>prob_sheet</th>\n      <th>prob_coil</th>\n    </tr>\n  </thead>\n  <tbody>\n    <tr>\n      <th>0</th>\n      <td>E</td>\n      <td>A</td>\n      <td>2WNS.A.1</td>\n      <td>1</td>\n      <td>0.777</td>\n      <td>85.680</td>\n      <td>1.547</td>\n      <td>0.003</td>\n      <td>0.003</td>\n      <td>0.994</td>\n    </tr>\n    <tr>\n      <th>1</th>\n      <td>E</td>\n      <td>L</td>\n      <td>2WNS.A.1</td>\n      <td>2</td>\n      <td>0.281</td>\n      <td>51.451</td>\n      <td>0.503</td>\n      <td>0.802</td>\n      <td>0.014</td>\n      <td>0.185</td>\n    </tr>\n    <tr>\n      <th>2</th>\n      <td>E</td>\n      <td>G</td>\n      <td>2WNS.A.1</td>\n      <td>3</td>\n      <td>0.530</td>\n      <td>41.687</td>\n      <td>1.558</td>\n      <td>0.938</td>\n      <td>0.007</td>\n      <td>0.055</td>\n    </tr>\n    <tr>\n      <th>3</th>\n      <td>E</td>\n      <td>P</td>\n      <td>2WNS.A.1</td>\n      <td>4</td>\n      <td>0.549</td>\n      <td>77.846</td>\n      <td>2.101</td>\n      <td>0.938</td>\n      <td>0.007</td>\n      <td>0.055</td>\n    </tr>\n    <tr>\n      <th>4</th>\n      <td>B</td>\n      <td>L</td>\n      <td>2WNS.A.1</td>\n      <td>5</td>\n      <td>0.074</td>\n      <td>13.531</td>\n      <td>0.513</td>\n      <td>0.938</td>\n      <td>0.007</td>\n      <td>0.055</td>\n    </tr>\n    <tr>\n      <th>...</th>\n      <td>...</td>\n      <td>...</td>\n      <td>...</td>\n      <td>...</td>\n      <td>...</td>\n      <td>...</td>\n      <td>...</td>\n      <td>...</td>\n      <td>...</td>\n      <td>...</td>\n    </tr>\n    <tr>\n      <th>193</th>\n      <td>B</td>\n      <td>F</td>\n      <td>2WNS.A.1</td>\n      <td>194</td>\n      <td>0.132</td>\n      <td>26.472</td>\n      <td>0.674</td>\n      <td>0.923</td>\n      <td>0.002</td>\n      <td>0.076</td>\n    </tr>\n    <tr>\n      <th>194</th>\n      <td>E</td>\n      <td>I</td>\n      <td>2WNS.A.1</td>\n      <td>195</td>\n      <td>0.339</td>\n      <td>62.807</td>\n      <td>0.927</td>\n      <td>0.782</td>\n      <td>0.003</td>\n      <td>0.216</td>\n    </tr>\n    <tr>\n      <th>195</th>\n      <td>E</td>\n      <td>Q</td>\n      <td>2WNS.A.1</td>\n      <td>196</td>\n      <td>0.776</td>\n      <td>138.540</td>\n      <td>1.328</td>\n      <td>0.502</td>\n      <td>0.002</td>\n      <td>0.495</td>\n    </tr>\n    <tr>\n      <th>196</th>\n      <td>E</td>\n      <td>E</td>\n      <td>2WNS.A.1</td>\n      <td>197</td>\n      <td>0.931</td>\n      <td>162.576</td>\n      <td>1.532</td>\n      <td>0.016</td>\n      <td>0.005</td>\n      <td>0.979</td>\n    </tr>\n    <tr>\n      <th>197</th>\n      <td>E</td>\n      <td>K</td>\n      <td>1ABC.D.2</td>\n      <td>1</td>\n      <td>0.545</td>\n      <td>112.086</td>\n      <td>1.328</td>\n      <td>0.018</td>\n      <td>0.019</td>\n      <td>0.964</td>\n    </tr>\n  </tbody>\n</table>\n<p>198 rows × 10 columns</p>\n</div>"
     },
     "execution_count": 33,
     "metadata": {},
     "output_type": "execute_result"
    }
   ],
   "source": [
    "df"
   ],
   "metadata": {
    "collapsed": false,
    "pycharm": {
     "name": "#%%\n"
    }
   }
  },
  {
   "cell_type": "markdown",
   "source": [
    "Now I want to get a df with the following cols:\n",
    "- length\n",
    "- name\n",
    "- sequence\n",
    "- abs_surf_acc\n",
    "- rel_surf_acc\n",
    "- prob_helix\n",
    "- prob_sheet\n",
    "- prob_coil\n",
    "- uniprot_id"
   ],
   "metadata": {
    "collapsed": false,
    "pycharm": {
     "name": "#%% md\n"
    }
   }
  },
  {
   "cell_type": "code",
   "execution_count": 10,
   "outputs": [
    {
     "data": {
      "text/plain": "name\n2WNS.A.1    197\nName: number, dtype: int64"
     },
     "execution_count": 10,
     "metadata": {},
     "output_type": "execute_result"
    }
   ],
   "source": [
    "df.groupby('name')['number'].max()"
   ],
   "metadata": {
    "collapsed": false,
    "pycharm": {
     "name": "#%%\n"
    }
   }
  },
  {
   "cell_type": "code",
   "execution_count": 38,
   "outputs": [
    {
     "data": {
      "text/plain": "    class AA      name  number  rel_surf_acc  abs_surf_acc      z  prob_helix  \\\n0       E  A  2WNS.A.1       1         0.777        85.680  1.547       0.003   \n1       E  L  2WNS.A.1       2         0.281        51.451  0.503       0.802   \n2       E  G  2WNS.A.1       3         0.530        41.687  1.558       0.938   \n3       E  P  2WNS.A.1       4         0.549        77.846  2.101       0.938   \n4       B  L  2WNS.A.1       5         0.074        13.531  0.513       0.938   \n..    ... ..       ...     ...           ...           ...    ...         ...   \n193     B  F  2WNS.A.1     194         0.132        26.472  0.674       0.923   \n194     E  I  2WNS.A.1     195         0.339        62.807  0.927       0.782   \n195     E  Q  2WNS.A.1     196         0.776       138.540  1.328       0.502   \n196     E  E  2WNS.A.1     197         0.931       162.576  1.532       0.016   \n197     E  K  1ABC.D.2       1         0.545       112.086  1.328       0.018   \n\n     prob_sheet  prob_coil  length  \n0         0.003      0.994     197  \n1         0.014      0.185     197  \n2         0.007      0.055     197  \n3         0.007      0.055     197  \n4         0.007      0.055     197  \n..          ...        ...     ...  \n193       0.002      0.076     197  \n194       0.003      0.216     197  \n195       0.002      0.495     197  \n196       0.005      0.979     197  \n197       0.019      0.964       1  \n\n[198 rows x 11 columns]",
      "text/html": "<div>\n<style scoped>\n    .dataframe tbody tr th:only-of-type {\n        vertical-align: middle;\n    }\n\n    .dataframe tbody tr th {\n        vertical-align: top;\n    }\n\n    .dataframe thead th {\n        text-align: right;\n    }\n</style>\n<table border=\"1\" class=\"dataframe\">\n  <thead>\n    <tr style=\"text-align: right;\">\n      <th></th>\n      <th>class</th>\n      <th>AA</th>\n      <th>name</th>\n      <th>number</th>\n      <th>rel_surf_acc</th>\n      <th>abs_surf_acc</th>\n      <th>z</th>\n      <th>prob_helix</th>\n      <th>prob_sheet</th>\n      <th>prob_coil</th>\n      <th>length</th>\n    </tr>\n  </thead>\n  <tbody>\n    <tr>\n      <th>0</th>\n      <td>E</td>\n      <td>A</td>\n      <td>2WNS.A.1</td>\n      <td>1</td>\n      <td>0.777</td>\n      <td>85.680</td>\n      <td>1.547</td>\n      <td>0.003</td>\n      <td>0.003</td>\n      <td>0.994</td>\n      <td>197</td>\n    </tr>\n    <tr>\n      <th>1</th>\n      <td>E</td>\n      <td>L</td>\n      <td>2WNS.A.1</td>\n      <td>2</td>\n      <td>0.281</td>\n      <td>51.451</td>\n      <td>0.503</td>\n      <td>0.802</td>\n      <td>0.014</td>\n      <td>0.185</td>\n      <td>197</td>\n    </tr>\n    <tr>\n      <th>2</th>\n      <td>E</td>\n      <td>G</td>\n      <td>2WNS.A.1</td>\n      <td>3</td>\n      <td>0.530</td>\n      <td>41.687</td>\n      <td>1.558</td>\n      <td>0.938</td>\n      <td>0.007</td>\n      <td>0.055</td>\n      <td>197</td>\n    </tr>\n    <tr>\n      <th>3</th>\n      <td>E</td>\n      <td>P</td>\n      <td>2WNS.A.1</td>\n      <td>4</td>\n      <td>0.549</td>\n      <td>77.846</td>\n      <td>2.101</td>\n      <td>0.938</td>\n      <td>0.007</td>\n      <td>0.055</td>\n      <td>197</td>\n    </tr>\n    <tr>\n      <th>4</th>\n      <td>B</td>\n      <td>L</td>\n      <td>2WNS.A.1</td>\n      <td>5</td>\n      <td>0.074</td>\n      <td>13.531</td>\n      <td>0.513</td>\n      <td>0.938</td>\n      <td>0.007</td>\n      <td>0.055</td>\n      <td>197</td>\n    </tr>\n    <tr>\n      <th>...</th>\n      <td>...</td>\n      <td>...</td>\n      <td>...</td>\n      <td>...</td>\n      <td>...</td>\n      <td>...</td>\n      <td>...</td>\n      <td>...</td>\n      <td>...</td>\n      <td>...</td>\n      <td>...</td>\n    </tr>\n    <tr>\n      <th>193</th>\n      <td>B</td>\n      <td>F</td>\n      <td>2WNS.A.1</td>\n      <td>194</td>\n      <td>0.132</td>\n      <td>26.472</td>\n      <td>0.674</td>\n      <td>0.923</td>\n      <td>0.002</td>\n      <td>0.076</td>\n      <td>197</td>\n    </tr>\n    <tr>\n      <th>194</th>\n      <td>E</td>\n      <td>I</td>\n      <td>2WNS.A.1</td>\n      <td>195</td>\n      <td>0.339</td>\n      <td>62.807</td>\n      <td>0.927</td>\n      <td>0.782</td>\n      <td>0.003</td>\n      <td>0.216</td>\n      <td>197</td>\n    </tr>\n    <tr>\n      <th>195</th>\n      <td>E</td>\n      <td>Q</td>\n      <td>2WNS.A.1</td>\n      <td>196</td>\n      <td>0.776</td>\n      <td>138.540</td>\n      <td>1.328</td>\n      <td>0.502</td>\n      <td>0.002</td>\n      <td>0.495</td>\n      <td>197</td>\n    </tr>\n    <tr>\n      <th>196</th>\n      <td>E</td>\n      <td>E</td>\n      <td>2WNS.A.1</td>\n      <td>197</td>\n      <td>0.931</td>\n      <td>162.576</td>\n      <td>1.532</td>\n      <td>0.016</td>\n      <td>0.005</td>\n      <td>0.979</td>\n      <td>197</td>\n    </tr>\n    <tr>\n      <th>197</th>\n      <td>E</td>\n      <td>K</td>\n      <td>1ABC.D.2</td>\n      <td>1</td>\n      <td>0.545</td>\n      <td>112.086</td>\n      <td>1.328</td>\n      <td>0.018</td>\n      <td>0.019</td>\n      <td>0.964</td>\n      <td>1</td>\n    </tr>\n  </tbody>\n</table>\n<p>198 rows × 11 columns</p>\n</div>"
     },
     "execution_count": 38,
     "metadata": {},
     "output_type": "execute_result"
    }
   ],
   "source": [
    "max_lengths = df.groupby('name')['number'].max()\n",
    "max_lengths.name = 'length'\n",
    "df.merge(max_lengths,left_on='name',right_on='name')"
   ],
   "metadata": {
    "collapsed": false,
    "pycharm": {
     "name": "#%%\n"
    }
   }
  },
  {
   "cell_type": "markdown",
   "source": [],
   "metadata": {
    "collapsed": false,
    "pycharm": {
     "name": "#%% md\n"
    }
   }
  },
  {
   "cell_type": "code",
   "execution_count": 28,
   "outputs": [
    {
     "data": {
      "text/plain": "Index(['2WNS.A.1'], dtype='object', name='name')"
     },
     "execution_count": 28,
     "metadata": {},
     "output_type": "execute_result"
    }
   ],
   "source": [
    "max_lengths.index"
   ],
   "metadata": {
    "collapsed": false,
    "pycharm": {
     "name": "#%%\n"
    }
   }
  },
  {
   "cell_type": "code",
   "execution_count": null,
   "outputs": [],
   "source": [
    "import requests"
   ],
   "metadata": {
    "collapsed": false,
    "pycharm": {
     "name": "#%%\n"
    }
   }
  }
 ],
 "metadata": {
  "kernelspec": {
   "display_name": "Python 3",
   "language": "python",
   "name": "python3"
  },
  "language_info": {
   "codemirror_mode": {
    "name": "ipython",
    "version": 2
   },
   "file_extension": ".py",
   "mimetype": "text/x-python",
   "name": "python",
   "nbconvert_exporter": "python",
   "pygments_lexer": "ipython2",
   "version": "2.7.6"
  }
 },
 "nbformat": 4,
 "nbformat_minor": 0
}